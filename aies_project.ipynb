{
  "metadata": {
    "kernelspec": {
      "language": "python",
      "display_name": "Python 3",
      "name": "python3"
    },
    "language_info": {
      "name": "python",
      "version": "3.10.13",
      "mimetype": "text/x-python",
      "codemirror_mode": {
        "name": "ipython",
        "version": 3
      },
      "pygments_lexer": "ipython3",
      "nbconvert_exporter": "python",
      "file_extension": ".py"
    },
    "kaggle": {
      "accelerator": "none",
      "dataSources": [
        {
          "sourceId": 7636491,
          "sourceType": "datasetVersion",
          "datasetId": 4450156
        }
      ],
      "dockerImageVersionId": 30646,
      "isInternetEnabled": true,
      "language": "python",
      "sourceType": "notebook",
      "isGpuEnabled": false
    },
    "colab": {
      "provenance": [],
      "include_colab_link": true
    }
  },
  "nbformat_minor": 0,
  "nbformat": 4,
  "cells": [
    {
      "cell_type": "markdown",
      "metadata": {
        "id": "view-in-github",
        "colab_type": "text"
      },
      "source": [
        "<a href=\"https://colab.research.google.com/github/rajanchalotra23/TextUtils/blob/main/aies_project.ipynb\" target=\"_parent\"><img src=\"https://colab.research.google.com/assets/colab-badge.svg\" alt=\"Open In Colab\"/></a>"
      ]
    },
    {
      "cell_type": "code",
      "source": [
        "\n",
        "\n",
        "import numpy as np # linear algebra\n",
        "import pandas as pd # data processing, CSV file I/O (e.g. pd.read_csv)\n",
        "\n"
      ],
      "metadata": {
        "_uuid": "8f2839f25d086af736a60e9eeb907d3b93b6e0e5",
        "_cell_guid": "b1076dfc-b9ad-4769-8c92-a6c4dae69d19",
        "execution": {
          "iopub.status.busy": "2024-02-16T11:03:37.597973Z",
          "iopub.execute_input": "2024-02-16T11:03:37.598454Z",
          "iopub.status.idle": "2024-02-16T11:03:37.612230Z",
          "shell.execute_reply.started": "2024-02-16T11:03:37.598419Z",
          "shell.execute_reply": "2024-02-16T11:03:37.610605Z"
        },
        "trusted": true,
        "id": "z-uPaHHJn3Dn"
      },
      "execution_count": 45,
      "outputs": []
    },
    {
      "cell_type": "code",
      "source": [
        "df_client=pd.read_csv(\"../content/client_train.csv\")     #client whether fraud or not fraud\n",
        "df_invoice=pd.read_csv(\"../content/invoice_train.csv\")   #consumption info"
      ],
      "metadata": {
        "execution": {
          "iopub.status.busy": "2024-02-16T11:03:37.614558Z",
          "iopub.status.idle": "2024-02-16T11:03:47.759512Z",
          "shell.execute_reply.started": "2024-02-16T11:03:37.615029Z",
          "shell.execute_reply": "2024-02-16T11:03:47.758294Z"
        },
        "trusted": true,
        "colab": {
          "base_uri": "https://localhost:8080/"
        },
        "id": "5ydpegxin3Dp",
        "outputId": "a6e6503b-b7fc-4507-e2e0-f8946e0f7a70"
      },
      "execution_count": 46,
      "outputs": [
        {
          "output_type": "stream",
          "name": "stderr",
          "text": [
            "<ipython-input-46-b06a212f775f>:2: DtypeWarning: Columns (4) have mixed types. Specify dtype option on import or set low_memory=False.\n",
            "  df_invoice=pd.read_csv(\"../content/invoice_train.csv\")   #consumption info\n"
          ]
        }
      ]
    },
    {
      "cell_type": "code",
      "source": [
        "#%% Data preprocessing\n",
        "\n",
        "# 1. dropping columns\n",
        "df_client.head()\n",
        "#df_client.drop(['disrict','client_catg','creation_date'], axis='columns',inplace=True)\n",
        "df_client.drop(['creation_date','region'], axis='columns',inplace=True)\n",
        "df_invoice.drop(['invoice_date','tarif_type','counter_number','counter_statue','counter_code','reading_remarque','counter_coefficient','consommation_level_2','consommation_level_3','consommation_level_4','old_index','new_index','months_number','counter_type'], axis='columns',inplace=True)\n",
        "\n",
        "# 2. filling NaNs with average of that\n",
        "grouped=df_invoice.groupby('client_id')\n",
        "\n",
        "df_invoice['consommation_level_1'] = grouped['consommation_level_1'].transform(lambda x: x.fillna(x.mean()))\n"
      ],
      "metadata": {
        "execution": {
          "iopub.status.busy": "2024-02-16T11:03:47.760941Z",
          "iopub.execute_input": "2024-02-16T11:03:47.761269Z",
          "iopub.status.idle": "2024-02-16T11:04:15.730661Z",
          "shell.execute_reply.started": "2024-02-16T11:03:47.761226Z",
          "shell.execute_reply": "2024-02-16T11:04:15.729318Z"
        },
        "trusted": true,
        "id": "_guwr0Lvn3Dp"
      },
      "execution_count": 47,
      "outputs": []
    },
    {
      "cell_type": "code",
      "source": [
        "#%%\n",
        "# 3. Treatment of outliers\n",
        "lower_outliers=grouped.quantile(0.05)\n",
        "upper_outliers=grouped.quantile(0.95)\n",
        "\n",
        "###SKIPPED\n",
        "\n",
        "\n"
      ],
      "metadata": {
        "execution": {
          "iopub.status.busy": "2024-02-16T11:04:15.733608Z",
          "iopub.execute_input": "2024-02-16T11:04:15.734059Z",
          "iopub.status.idle": "2024-02-16T11:04:17.061385Z",
          "shell.execute_reply.started": "2024-02-16T11:04:15.734008Z",
          "shell.execute_reply": "2024-02-16T11:04:17.060063Z"
        },
        "trusted": true,
        "id": "AWT8P_3Wn3Dp"
      },
      "execution_count": 48,
      "outputs": []
    },
    {
      "cell_type": "code",
      "source": [
        "df_mean=df_invoice.groupby('client_id').agg({'consommation_level_1':'mean'})\n",
        "df_median=df_invoice.groupby('client_id').agg({'consommation_level_1':'median'})\n",
        "df_std_dev=pd.DataFrame(df_invoice.groupby('client_id')[\"consommation_level_1\"].std())\n",
        "#df_kurtosis=df_invoice.groupby('client_id')[\"consommation_level_1\"].apply(pd.DataFrame.kurt)\n",
        "\n",
        "def compute_kurtosis(group):\n",
        "    return group.kurt()\n",
        "\n",
        "# Apply the custom function within each group\n",
        "df_kurtosis = df_invoice.groupby('client_id')[\"consommation_level_1\"].apply(compute_kurtosis)\n"
      ],
      "metadata": {
        "execution": {
          "iopub.status.busy": "2024-02-16T11:08:32.791467Z",
          "iopub.execute_input": "2024-02-16T11:08:32.791924Z",
          "iopub.status.idle": "2024-02-16T11:08:53.186273Z",
          "shell.execute_reply.started": "2024-02-16T11:08:32.791891Z",
          "shell.execute_reply": "2024-02-16T11:08:53.185221Z"
        },
        "trusted": true,
        "id": "VjcInsx9n3Dq"
      },
      "execution_count": 49,
      "outputs": []
    },
    {
      "cell_type": "code",
      "source": [
        "df_new1=pd.merge(df_mean,df_median,\"inner\",on=['client_id'])\n",
        "df_new2=pd.merge(df_std_dev,df_kurtosis,on=['client_id'])\n",
        "df_new3=pd.merge(df_new1,df_new2,'inner',on=['client_id'])\n",
        "df_final=pd.merge(df_new3,df_client,on=['client_id'])\n",
        "\n",
        "\n",
        "df_final.rename(columns = {'consommation_level_1_x_x':'mean','consommation_level_1_y_x':'median','consommation_level_1_x_y':'std_dev','consommation_level_1_y_y':'kurt'}, inplace = True)\n",
        "df_final.dropna(inplace=True)\n",
        "\n",
        "df_final.groupby('target').count()\n",
        "\n",
        "#%% Categorical variable treatment\n",
        "df_final['disrict']=df_final['disrict'].astype('object')\n",
        "df_final['client_catg']=df_final['client_catg'].astype('object')\n",
        "#df_final['region']=df_final['region'].astype('object')\n",
        "df_final['target']=df_final['target'].astype('object')\n",
        "df_final.groupby('target')['client_id'].count()\n",
        "\n",
        "\n"
      ],
      "metadata": {
        "execution": {
          "iopub.status.busy": "2024-02-16T11:08:58.146833Z",
          "iopub.execute_input": "2024-02-16T11:08:58.147201Z",
          "iopub.status.idle": "2024-02-16T11:08:58.421195Z",
          "shell.execute_reply.started": "2024-02-16T11:08:58.147171Z",
          "shell.execute_reply": "2024-02-16T11:08:58.420116Z"
        },
        "trusted": true,
        "colab": {
          "base_uri": "https://localhost:8080/"
        },
        "id": "uUs6apLUn3Dq",
        "outputId": "0bb030f1-3868-4799-83f4-8383d61c21bc"
      },
      "execution_count": 50,
      "outputs": [
        {
          "output_type": "execute_result",
          "data": {
            "text/plain": [
              "target\n",
              "0.0    69876\n",
              "1.0     4673\n",
              "Name: client_id, dtype: int64"
            ]
          },
          "metadata": {},
          "execution_count": 50
        }
      ]
    },
    {
      "cell_type": "code",
      "source": [
        "#%%split the data into testing and training\n",
        "df_final.drop('client_id',axis=1, inplace=True)\n",
        "X=df_final.columns[0:6]\n",
        "X\n",
        "encoded_df_final=pd.get_dummies(df_final[X],drop_first=True)\n",
        "list(encoded_df_final.columns)\n",
        "\n",
        "import statsmodels.api as sm\n",
        "\n",
        "df_finalY=df_final.target\n",
        "df_finalX=sm.add_constant(encoded_df_final)\n",
        "\n",
        "\n",
        "from sklearn.model_selection import train_test_split\n",
        "df_finalX_train, df_finalX_test, df_finalY_train, df_finalY_test=train_test_split(df_finalX, df_finalY, test_size=0.25, random_state=6432)\n"
      ],
      "metadata": {
        "execution": {
          "iopub.status.busy": "2024-02-16T11:09:04.774075Z",
          "iopub.execute_input": "2024-02-16T11:09:04.774495Z",
          "iopub.status.idle": "2024-02-16T11:09:07.208735Z",
          "shell.execute_reply.started": "2024-02-16T11:09:04.774462Z",
          "shell.execute_reply": "2024-02-16T11:09:07.207608Z"
        },
        "trusted": true,
        "colab": {
          "base_uri": "https://localhost:8080/"
        },
        "id": "TGT3I7Pkn3Dq",
        "outputId": "59525409-def4-4b87-8240-e55984b29e6f"
      },
      "execution_count": 51,
      "outputs": [
        {
          "output_type": "stream",
          "name": "stderr",
          "text": [
            "<ipython-input-51-f1b2d48afc43>:5: FutureWarning: In a future version, the Index constructor will not infer numeric dtypes when passed object-dtype sequences (matching Series behavior)\n",
            "  encoded_df_final=pd.get_dummies(df_final[X],drop_first=True)\n",
            "<ipython-input-51-f1b2d48afc43>:5: FutureWarning: In a future version, the Index constructor will not infer numeric dtypes when passed object-dtype sequences (matching Series behavior)\n",
            "  encoded_df_final=pd.get_dummies(df_final[X],drop_first=True)\n"
          ]
        }
      ]
    },
    {
      "cell_type": "code",
      "source": [
        "#%% ENSEMBLING\n",
        "\n",
        "# from imblearn.over_sampling import SMOTE\n",
        "\n",
        "# df_final_smote = SMOTE()\n",
        "# df_finalX_train, df_finalY_train = df_final_smote.fit_resample(df_finalX_train, df_finalY_train)\n",
        "\n",
        "\n",
        "from sklearn.ensemble import BaggingClassifier\n",
        "from sklearn.tree import DecisionTreeClassifier\n",
        "\n",
        "#Bagging Classifier\n",
        "\n",
        "df_finalY_train = pd.Categorical(df_finalY_train).codes\n",
        "\n",
        "df_final_bagging=BaggingClassifier(base_estimator=DecisionTreeClassifier(),n_estimators=500, random_state=42)\n",
        "df_final_bagging.fit(df_finalX_train, df_finalY_train)\n",
        "\n"
      ],
      "metadata": {
        "execution": {
          "iopub.status.busy": "2024-02-16T11:09:09.959613Z",
          "iopub.execute_input": "2024-02-16T11:09:09.960150Z"
        },
        "trusted": true,
        "colab": {
          "base_uri": "https://localhost:8080/",
          "height": 209
        },
        "id": "bKwTSpMgn3Dq",
        "outputId": "56290109-0328-4499-d1bd-a8abd34fdeeb"
      },
      "execution_count": 52,
      "outputs": [
        {
          "output_type": "stream",
          "name": "stderr",
          "text": [
            "<ipython-input-52-b8e35e9847ab>:14: FutureWarning: In a future version, the Index constructor will not infer numeric dtypes when passed object-dtype sequences (matching Series behavior)\n",
            "  df_finalY_train = pd.Categorical(df_finalY_train).codes\n",
            "/usr/local/lib/python3.10/dist-packages/sklearn/ensemble/_base.py:166: FutureWarning: `base_estimator` was renamed to `estimator` in version 1.2 and will be removed in 1.4.\n",
            "  warnings.warn(\n"
          ]
        },
        {
          "output_type": "execute_result",
          "data": {
            "text/plain": [
              "BaggingClassifier(base_estimator=DecisionTreeClassifier(), n_estimators=500,\n",
              "                  random_state=42)"
            ],
            "text/html": [
              "<style>#sk-container-id-4 {color: black;background-color: white;}#sk-container-id-4 pre{padding: 0;}#sk-container-id-4 div.sk-toggleable {background-color: white;}#sk-container-id-4 label.sk-toggleable__label {cursor: pointer;display: block;width: 100%;margin-bottom: 0;padding: 0.3em;box-sizing: border-box;text-align: center;}#sk-container-id-4 label.sk-toggleable__label-arrow:before {content: \"▸\";float: left;margin-right: 0.25em;color: #696969;}#sk-container-id-4 label.sk-toggleable__label-arrow:hover:before {color: black;}#sk-container-id-4 div.sk-estimator:hover label.sk-toggleable__label-arrow:before {color: black;}#sk-container-id-4 div.sk-toggleable__content {max-height: 0;max-width: 0;overflow: hidden;text-align: left;background-color: #f0f8ff;}#sk-container-id-4 div.sk-toggleable__content pre {margin: 0.2em;color: black;border-radius: 0.25em;background-color: #f0f8ff;}#sk-container-id-4 input.sk-toggleable__control:checked~div.sk-toggleable__content {max-height: 200px;max-width: 100%;overflow: auto;}#sk-container-id-4 input.sk-toggleable__control:checked~label.sk-toggleable__label-arrow:before {content: \"▾\";}#sk-container-id-4 div.sk-estimator input.sk-toggleable__control:checked~label.sk-toggleable__label {background-color: #d4ebff;}#sk-container-id-4 div.sk-label input.sk-toggleable__control:checked~label.sk-toggleable__label {background-color: #d4ebff;}#sk-container-id-4 input.sk-hidden--visually {border: 0;clip: rect(1px 1px 1px 1px);clip: rect(1px, 1px, 1px, 1px);height: 1px;margin: -1px;overflow: hidden;padding: 0;position: absolute;width: 1px;}#sk-container-id-4 div.sk-estimator {font-family: monospace;background-color: #f0f8ff;border: 1px dotted black;border-radius: 0.25em;box-sizing: border-box;margin-bottom: 0.5em;}#sk-container-id-4 div.sk-estimator:hover {background-color: #d4ebff;}#sk-container-id-4 div.sk-parallel-item::after {content: \"\";width: 100%;border-bottom: 1px solid gray;flex-grow: 1;}#sk-container-id-4 div.sk-label:hover label.sk-toggleable__label {background-color: #d4ebff;}#sk-container-id-4 div.sk-serial::before {content: \"\";position: absolute;border-left: 1px solid gray;box-sizing: border-box;top: 0;bottom: 0;left: 50%;z-index: 0;}#sk-container-id-4 div.sk-serial {display: flex;flex-direction: column;align-items: center;background-color: white;padding-right: 0.2em;padding-left: 0.2em;position: relative;}#sk-container-id-4 div.sk-item {position: relative;z-index: 1;}#sk-container-id-4 div.sk-parallel {display: flex;align-items: stretch;justify-content: center;background-color: white;position: relative;}#sk-container-id-4 div.sk-item::before, #sk-container-id-4 div.sk-parallel-item::before {content: \"\";position: absolute;border-left: 1px solid gray;box-sizing: border-box;top: 0;bottom: 0;left: 50%;z-index: -1;}#sk-container-id-4 div.sk-parallel-item {display: flex;flex-direction: column;z-index: 1;position: relative;background-color: white;}#sk-container-id-4 div.sk-parallel-item:first-child::after {align-self: flex-end;width: 50%;}#sk-container-id-4 div.sk-parallel-item:last-child::after {align-self: flex-start;width: 50%;}#sk-container-id-4 div.sk-parallel-item:only-child::after {width: 0;}#sk-container-id-4 div.sk-dashed-wrapped {border: 1px dashed gray;margin: 0 0.4em 0.5em 0.4em;box-sizing: border-box;padding-bottom: 0.4em;background-color: white;}#sk-container-id-4 div.sk-label label {font-family: monospace;font-weight: bold;display: inline-block;line-height: 1.2em;}#sk-container-id-4 div.sk-label-container {text-align: center;}#sk-container-id-4 div.sk-container {/* jupyter's `normalize.less` sets `[hidden] { display: none; }` but bootstrap.min.css set `[hidden] { display: none !important; }` so we also need the `!important` here to be able to override the default hidden behavior on the sphinx rendered scikit-learn.org. See: https://github.com/scikit-learn/scikit-learn/issues/21755 */display: inline-block !important;position: relative;}#sk-container-id-4 div.sk-text-repr-fallback {display: none;}</style><div id=\"sk-container-id-4\" class=\"sk-top-container\"><div class=\"sk-text-repr-fallback\"><pre>BaggingClassifier(base_estimator=DecisionTreeClassifier(), n_estimators=500,\n",
              "                  random_state=42)</pre><b>In a Jupyter environment, please rerun this cell to show the HTML representation or trust the notebook. <br />On GitHub, the HTML representation is unable to render, please try loading this page with nbviewer.org.</b></div><div class=\"sk-container\" hidden><div class=\"sk-item sk-dashed-wrapped\"><div class=\"sk-label-container\"><div class=\"sk-label sk-toggleable\"><input class=\"sk-toggleable__control sk-hidden--visually\" id=\"sk-estimator-id-8\" type=\"checkbox\" ><label for=\"sk-estimator-id-8\" class=\"sk-toggleable__label sk-toggleable__label-arrow\">BaggingClassifier</label><div class=\"sk-toggleable__content\"><pre>BaggingClassifier(base_estimator=DecisionTreeClassifier(), n_estimators=500,\n",
              "                  random_state=42)</pre></div></div></div><div class=\"sk-parallel\"><div class=\"sk-parallel-item\"><div class=\"sk-item\"><div class=\"sk-label-container\"><div class=\"sk-label sk-toggleable\"><input class=\"sk-toggleable__control sk-hidden--visually\" id=\"sk-estimator-id-9\" type=\"checkbox\" ><label for=\"sk-estimator-id-9\" class=\"sk-toggleable__label sk-toggleable__label-arrow\">base_estimator: DecisionTreeClassifier</label><div class=\"sk-toggleable__content\"><pre>DecisionTreeClassifier()</pre></div></div></div><div class=\"sk-serial\"><div class=\"sk-item\"><div class=\"sk-estimator sk-toggleable\"><input class=\"sk-toggleable__control sk-hidden--visually\" id=\"sk-estimator-id-10\" type=\"checkbox\" ><label for=\"sk-estimator-id-10\" class=\"sk-toggleable__label sk-toggleable__label-arrow\">DecisionTreeClassifier</label><div class=\"sk-toggleable__content\"><pre>DecisionTreeClassifier()</pre></div></div></div></div></div></div></div></div></div></div>"
            ]
          },
          "metadata": {},
          "execution_count": 52
        }
      ]
    },
    {
      "cell_type": "code",
      "source": [
        "# %% TRAINING\n",
        "#%% MODEL PERFORMANCE TRAINING\n",
        "\n",
        "from sklearn.tree import DecisionTreeClassifier\n",
        "\n",
        "# df_final_tree=DecisionTreeClassifier(criterion='gini',max_depth=3,random_state=42)\n",
        "\n",
        "# df_final_tree.fit(df_finalX_train,df_finalY_train)\n",
        "\n",
        "\n",
        "\n",
        "df_finalY_predict=df_final_bagging.predict(df_finalX_train)\n",
        "\n",
        "\n"
      ],
      "metadata": {
        "execution": {
          "iopub.status.busy": "2024-02-16T11:04:20.395997Z",
          "iopub.status.idle": "2024-02-16T11:04:20.396438Z",
          "shell.execute_reply.started": "2024-02-16T11:04:20.396206Z",
          "shell.execute_reply": "2024-02-16T11:04:20.396223Z"
        },
        "trusted": true,
        "id": "lNRJAnytn3Dq"
      },
      "execution_count": 53,
      "outputs": []
    },
    {
      "cell_type": "code",
      "source": [
        "#%% Performance\n",
        "from sklearn.metrics import confusion_matrix\n",
        "import seaborn as sn\n",
        "class_name=['no fraud','fraud']\n",
        "confusionmatrix=confusion_matrix(df_finalY_train,df_finalY_predict)\n",
        "sn.heatmap(confusionmatrix, annot=True, yticklabels=class_name, xticklabels=class_name, fmt='g', cmap=\"Greens\")\n",
        "\n",
        "#accuracy\n",
        "\n",
        "from sklearn import metrics\n",
        "print('Accuracy:',metrics.accuracy_score(df_finalY_train,df_finalY_predict))\n",
        "print('AUC-ROC: ',metrics.roc_auc_score(df_finalY_train, df_finalY_predict))"
      ],
      "metadata": {
        "execution": {
          "iopub.status.busy": "2024-02-16T11:04:20.397651Z",
          "iopub.status.idle": "2024-02-16T11:04:20.398039Z",
          "shell.execute_reply.started": "2024-02-16T11:04:20.397848Z",
          "shell.execute_reply": "2024-02-16T11:04:20.397865Z"
        },
        "trusted": true,
        "colab": {
          "base_uri": "https://localhost:8080/",
          "height": 466
        },
        "id": "XkTxu2qCn3Dq",
        "outputId": "8da16921-88d4-40d0-f28a-192ae8388d96"
      },
      "execution_count": 54,
      "outputs": [
        {
          "output_type": "stream",
          "name": "stdout",
          "text": [
            "Accuracy: 0.9998211443186493\n",
            "AUC-ROC:  0.9985528219971056\n"
          ]
        },
        {
          "output_type": "display_data",
          "data": {
            "text/plain": [
              "<Figure size 640x480 with 2 Axes>"
            ],
            "image/png": "[encoded data removed]"
          },
          "metadata": {}
        }
      ]
    },
    {
      "cell_type": "code",
      "source": [
        "# %% TESTING\n",
        "#%% MODEL PERFORMANCE TESTING\n",
        "\n",
        "from sklearn.tree import DecisionTreeClassifier\n",
        "\n",
        "# df_final_tree=DecisionTreeClassifier(criterion='gini',max_depth=3,random_state=42)\n",
        "\n",
        "# df_final_tree.fit(df_finalX_train,df_finalY_train)\n",
        "\n",
        "df_finalY_predict=df_final_bagging.predict(df_finalX_test)"
      ],
      "metadata": {
        "id": "4RY4Z17WvVNw"
      },
      "execution_count": 55,
      "outputs": []
    },
    {
      "cell_type": "code",
      "source": [
        "#%% Performance\n",
        "from sklearn.metrics import confusion_matrix\n",
        "import seaborn as sn\n",
        "df_finalY_test = df_finalY_test.astype('int8')\n",
        "array_finalY_test = df_finalY_test.values\n",
        "df_finalY_test\n",
        "class_name=['no fraud','fraud']\n",
        "confusionmatrix=confusion_matrix(df_finalY_test,df_finalY_predict)\n",
        "sn.heatmap(confusionmatrix, annot=True, yticklabels=class_name, xticklabels=class_name, fmt='g', cmap=\"Greens\")\n",
        "\n",
        "#accuracy\n",
        "\n",
        "from sklearn import metrics\n",
        "print('Accuracy:',metrics.accuracy_score(df_finalY_test,df_finalY_predict))\n",
        "print('AUC-ROC: ',metrics.roc_auc_score(df_finalY_test, df_finalY_predict))"
      ],
      "metadata": {
        "colab": {
          "base_uri": "https://localhost:8080/",
          "height": 466
        },
        "id": "8bQ3XlLawPG0",
        "outputId": "efab6a21-cba5-4d9a-ac02-ce151a5e9988"
      },
      "execution_count": 56,
      "outputs": [
        {
          "output_type": "stream",
          "name": "stdout",
          "text": [
            "Accuracy: 0.9340594484386737\n",
            "AUC-ROC:  0.5019751092962622\n"
          ]
        },
        {
          "output_type": "display_data",
          "data": {
            "text/plain": [
              "<Figure size 640x480 with 2 Axes>"
            ],
            "image/png": "[encoded data removed]"
          },
          "metadata": {}
        }
      ]
    },
    {
      "cell_type": "markdown",
      "source": [
        "**BOOSTING TECHNIQUE**"
      ],
      "metadata": {
        "id": "4lsUyeMjzieg"
      }
    },
    {
      "cell_type": "code",
      "source": [
        "from sklearn.ensemble import GradientBoostingClassifier\n",
        "\n",
        "df_final_boosting=GradientBoostingClassifier(n_estimators=100,learning_rate=1.0,random_state=0)\n",
        "df_final_boosting.fit(df_finalX_train, df_finalY_train)"
      ],
      "metadata": {
        "colab": {
          "base_uri": "https://localhost:8080/",
          "height": 74
        },
        "id": "HZ_g5ymiwS9e",
        "outputId": "3cb997d8-60ac-4fc5-d868-1fd78636c3f2"
      },
      "execution_count": 57,
      "outputs": [
        {
          "output_type": "execute_result",
          "data": {
            "text/plain": [
              "GradientBoostingClassifier(learning_rate=1.0, random_state=0)"
            ],
            "text/html": [
              "<style>#sk-container-id-5 {color: black;background-color: white;}#sk-container-id-5 pre{padding: 0;}#sk-container-id-5 div.sk-toggleable {background-color: white;}#sk-container-id-5 label.sk-toggleable__label {cursor: pointer;display: block;width: 100%;margin-bottom: 0;padding: 0.3em;box-sizing: border-box;text-align: center;}#sk-container-id-5 label.sk-toggleable__label-arrow:before {content: \"▸\";float: left;margin-right: 0.25em;color: #696969;}#sk-container-id-5 label.sk-toggleable__label-arrow:hover:before {color: black;}#sk-container-id-5 div.sk-estimator:hover label.sk-toggleable__label-arrow:before {color: black;}#sk-container-id-5 div.sk-toggleable__content {max-height: 0;max-width: 0;overflow: hidden;text-align: left;background-color: #f0f8ff;}#sk-container-id-5 div.sk-toggleable__content pre {margin: 0.2em;color: black;border-radius: 0.25em;background-color: #f0f8ff;}#sk-container-id-5 input.sk-toggleable__control:checked~div.sk-toggleable__content {max-height: 200px;max-width: 100%;overflow: auto;}#sk-container-id-5 input.sk-toggleable__control:checked~label.sk-toggleable__label-arrow:before {content: \"▾\";}#sk-container-id-5 div.sk-estimator input.sk-toggleable__control:checked~label.sk-toggleable__label {background-color: #d4ebff;}#sk-container-id-5 div.sk-label input.sk-toggleable__control:checked~label.sk-toggleable__label {background-color: #d4ebff;}#sk-container-id-5 input.sk-hidden--visually {border: 0;clip: rect(1px 1px 1px 1px);clip: rect(1px, 1px, 1px, 1px);height: 1px;margin: -1px;overflow: hidden;padding: 0;position: absolute;width: 1px;}#sk-container-id-5 div.sk-estimator {font-family: monospace;background-color: #f0f8ff;border: 1px dotted black;border-radius: 0.25em;box-sizing: border-box;margin-bottom: 0.5em;}#sk-container-id-5 div.sk-estimator:hover {background-color: #d4ebff;}#sk-container-id-5 div.sk-parallel-item::after {content: \"\";width: 100%;border-bottom: 1px solid gray;flex-grow: 1;}#sk-container-id-5 div.sk-label:hover label.sk-toggleable__label {background-color: #d4ebff;}#sk-container-id-5 div.sk-serial::before {content: \"\";position: absolute;border-left: 1px solid gray;box-sizing: border-box;top: 0;bottom: 0;left: 50%;z-index: 0;}#sk-container-id-5 div.sk-serial {display: flex;flex-direction: column;align-items: center;background-color: white;padding-right: 0.2em;padding-left: 0.2em;position: relative;}#sk-container-id-5 div.sk-item {position: relative;z-index: 1;}#sk-container-id-5 div.sk-parallel {display: flex;align-items: stretch;justify-content: center;background-color: white;position: relative;}#sk-container-id-5 div.sk-item::before, #sk-container-id-5 div.sk-parallel-item::before {content: \"\";position: absolute;border-left: 1px solid gray;box-sizing: border-box;top: 0;bottom: 0;left: 50%;z-index: -1;}#sk-container-id-5 div.sk-parallel-item {display: flex;flex-direction: column;z-index: 1;position: relative;background-color: white;}#sk-container-id-5 div.sk-parallel-item:first-child::after {align-self: flex-end;width: 50%;}#sk-container-id-5 div.sk-parallel-item:last-child::after {align-self: flex-start;width: 50%;}#sk-container-id-5 div.sk-parallel-item:only-child::after {width: 0;}#sk-container-id-5 div.sk-dashed-wrapped {border: 1px dashed gray;margin: 0 0.4em 0.5em 0.4em;box-sizing: border-box;padding-bottom: 0.4em;background-color: white;}#sk-container-id-5 div.sk-label label {font-family: monospace;font-weight: bold;display: inline-block;line-height: 1.2em;}#sk-container-id-5 div.sk-label-container {text-align: center;}#sk-container-id-5 div.sk-container {/* jupyter's `normalize.less` sets `[hidden] { display: none; }` but bootstrap.min.css set `[hidden] { display: none !important; }` so we also need the `!important` here to be able to override the default hidden behavior on the sphinx rendered scikit-learn.org. See: https://github.com/scikit-learn/scikit-learn/issues/21755 */display: inline-block !important;position: relative;}#sk-container-id-5 div.sk-text-repr-fallback {display: none;}</style><div id=\"sk-container-id-5\" class=\"sk-top-container\"><div class=\"sk-text-repr-fallback\"><pre>GradientBoostingClassifier(learning_rate=1.0, random_state=0)</pre><b>In a Jupyter environment, please rerun this cell to show the HTML representation or trust the notebook. <br />On GitHub, the HTML representation is unable to render, please try loading this page with nbviewer.org.</b></div><div class=\"sk-container\" hidden><div class=\"sk-item\"><div class=\"sk-estimator sk-toggleable\"><input class=\"sk-toggleable__control sk-hidden--visually\" id=\"sk-estimator-id-11\" type=\"checkbox\" checked><label for=\"sk-estimator-id-11\" class=\"sk-toggleable__label sk-toggleable__label-arrow\">GradientBoostingClassifier</label><div class=\"sk-toggleable__content\"><pre>GradientBoostingClassifier(learning_rate=1.0, random_state=0)</pre></div></div></div></div></div>"
            ]
          },
          "metadata": {},
          "execution_count": 57
        }
      ]
    },
    {
      "cell_type": "code",
      "source": [
        "from sklearn.tree import DecisionTreeClassifier\n",
        "\n",
        "# df_final_tree=DecisionTreeClassifier(criterion='gini',max_depth=3,random_state=42)\n",
        "\n",
        "# df_final_tree.fit(df_finalX_train,df_finalY_train)\n",
        "\n",
        "df_finalY_predict=df_final_boosting.predict(df_finalX_test)"
      ],
      "metadata": {
        "id": "Oewj1RPF0QCx"
      },
      "execution_count": 58,
      "outputs": []
    },
    {
      "cell_type": "code",
      "source": [
        "from sklearn.metrics import confusion_matrix\n",
        "import seaborn as sn\n",
        "df_finalY_test = df_finalY_test.astype('int8')\n",
        "array_finalY_test = df_finalY_test.values\n",
        "df_finalY_test\n",
        "class_name=['no fraud','fraud']\n",
        "confusionmatrix=confusion_matrix(df_finalY_test,df_finalY_predict)\n",
        "sn.heatmap(confusionmatrix, annot=True, yticklabels=class_name, xticklabels=class_name, fmt='g', cmap=\"Greens\")\n",
        "\n",
        "#accuracy\n",
        "\n",
        "from sklearn import metrics\n",
        "print('Accuracy:',metrics.accuracy_score(df_finalY_test,df_finalY_predict))\n",
        "print('AUC-ROC: ',metrics.roc_auc_score(df_finalY_test, df_finalY_predict))"
      ],
      "metadata": {
        "colab": {
          "base_uri": "https://localhost:8080/",
          "height": 466
        },
        "id": "_XqlKeF10ddS",
        "outputId": "8555e772-75fd-4f50-d69a-a0b1e95fa366"
      },
      "execution_count": 59,
      "outputs": [
        {
          "output_type": "stream",
          "name": "stdout",
          "text": [
            "Accuracy: 0.9291769503165576\n",
            "AUC-ROC:  0.5016540073410892\n"
          ]
        },
        {
          "output_type": "display_data",
          "data": {
            "text/plain": [
              "<Figure size 640x480 with 2 Axes>"
            ],
            "image/png": "[encoded data removed]"
          },
          "metadata": {}
        }
      ]
    },
    {
      "cell_type": "markdown",
      "source": [
        "**SMOTE**"
      ],
      "metadata": {
        "id": "fLyNmT3y2hJ_"
      }
    },
    {
      "cell_type": "code",
      "source": [
        "! pip install imblearn"
      ],
      "metadata": {
        "colab": {
          "base_uri": "https://localhost:8080/"
        },
        "id": "vXWYp4jp2g1Y",
        "outputId": "b9631d3e-9c7c-4797-bfd3-de1849bab85e"
      },
      "execution_count": 60,
      "outputs": [
        {
          "output_type": "stream",
          "name": "stdout",
          "text": [
            "Collecting imblearn\n",
            "  Downloading imblearn-0.0-py2.py3-none-any.whl (1.9 kB)\n",
            "Requirement already satisfied: imbalanced-learn in /usr/local/lib/python3.10/dist-packages (from imblearn) (0.10.1)\n",
            "Requirement already satisfied: numpy>=1.17.3 in /usr/local/lib/python3.10/dist-packages (from imbalanced-learn->imblearn) (1.25.2)\n",
            "Requirement already satisfied: scipy>=1.3.2 in /usr/local/lib/python3.10/dist-packages (from imbalanced-learn->imblearn) (1.11.4)\n",
            "Requirement already satisfied: scikit-learn>=1.0.2 in /usr/local/lib/python3.10/dist-packages (from imbalanced-learn->imblearn) (1.2.2)\n",
            "Requirement already satisfied: joblib>=1.1.1 in /usr/local/lib/python3.10/dist-packages (from imbalanced-learn->imblearn) (1.3.2)\n",
            "Requirement already satisfied: threadpoolctl>=2.0.0 in /usr/local/lib/python3.10/dist-packages (from imbalanced-learn->imblearn) (3.2.0)\n",
            "Installing collected packages: imblearn\n",
            "Successfully installed imblearn-0.0\n"
          ]
        }
      ]
    },
    {
      "cell_type": "code",
      "source": [
        "from imblearn.over_sampling import SMOTE\n",
        "df_final_smote=SMOTE()\n",
        "df_finalX_train, df_finalY_train=df_final_smote.fit_resample(df_finalX_train, df_finalY_train)\n",
        "\n",
        "#importing packages\n",
        "from sklearn.tree import DecisionTreeClassifier\n",
        "\n",
        "df_final_tree=DecisionTreeClassifier(criterion='gini',max_depth=3,random_state=42)\n",
        "df_final_tree.fit(df_finalX_train,df_finalY_train)\n"
      ],
      "metadata": {
        "colab": {
          "base_uri": "https://localhost:8080/",
          "height": 74
        },
        "id": "2G2RAXSm2pHL",
        "outputId": "8e11620c-48c1-42e1-ece6-b1c94d994d92"
      },
      "execution_count": 62,
      "outputs": [
        {
          "output_type": "execute_result",
          "data": {
            "text/plain": [
              "DecisionTreeClassifier(max_depth=3, random_state=42)"
            ],
            "text/html": [
              "<style>#sk-container-id-6 {color: black;background-color: white;}#sk-container-id-6 pre{padding: 0;}#sk-container-id-6 div.sk-toggleable {background-color: white;}#sk-container-id-6 label.sk-toggleable__label {cursor: pointer;display: block;width: 100%;margin-bottom: 0;padding: 0.3em;box-sizing: border-box;text-align: center;}#sk-container-id-6 label.sk-toggleable__label-arrow:before {content: \"▸\";float: left;margin-right: 0.25em;color: #696969;}#sk-container-id-6 label.sk-toggleable__label-arrow:hover:before {color: black;}#sk-container-id-6 div.sk-estimator:hover label.sk-toggleable__label-arrow:before {color: black;}#sk-container-id-6 div.sk-toggleable__content {max-height: 0;max-width: 0;overflow: hidden;text-align: left;background-color: #f0f8ff;}#sk-container-id-6 div.sk-toggleable__content pre {margin: 0.2em;color: black;border-radius: 0.25em;background-color: #f0f8ff;}#sk-container-id-6 input.sk-toggleable__control:checked~div.sk-toggleable__content {max-height: 200px;max-width: 100%;overflow: auto;}#sk-container-id-6 input.sk-toggleable__control:checked~label.sk-toggleable__label-arrow:before {content: \"▾\";}#sk-container-id-6 div.sk-estimator input.sk-toggleable__control:checked~label.sk-toggleable__label {background-color: #d4ebff;}#sk-container-id-6 div.sk-label input.sk-toggleable__control:checked~label.sk-toggleable__label {background-color: #d4ebff;}#sk-container-id-6 input.sk-hidden--visually {border: 0;clip: rect(1px 1px 1px 1px);clip: rect(1px, 1px, 1px, 1px);height: 1px;margin: -1px;overflow: hidden;padding: 0;position: absolute;width: 1px;}#sk-container-id-6 div.sk-estimator {font-family: monospace;background-color: #f0f8ff;border: 1px dotted black;border-radius: 0.25em;box-sizing: border-box;margin-bottom: 0.5em;}#sk-container-id-6 div.sk-estimator:hover {background-color: #d4ebff;}#sk-container-id-6 div.sk-parallel-item::after {content: \"\";width: 100%;border-bottom: 1px solid gray;flex-grow: 1;}#sk-container-id-6 div.sk-label:hover label.sk-toggleable__label {background-color: #d4ebff;}#sk-container-id-6 div.sk-serial::before {content: \"\";position: absolute;border-left: 1px solid gray;box-sizing: border-box;top: 0;bottom: 0;left: 50%;z-index: 0;}#sk-container-id-6 div.sk-serial {display: flex;flex-direction: column;align-items: center;background-color: white;padding-right: 0.2em;padding-left: 0.2em;position: relative;}#sk-container-id-6 div.sk-item {position: relative;z-index: 1;}#sk-container-id-6 div.sk-parallel {display: flex;align-items: stretch;justify-content: center;background-color: white;position: relative;}#sk-container-id-6 div.sk-item::before, #sk-container-id-6 div.sk-parallel-item::before {content: \"\";position: absolute;border-left: 1px solid gray;box-sizing: border-box;top: 0;bottom: 0;left: 50%;z-index: -1;}#sk-container-id-6 div.sk-parallel-item {display: flex;flex-direction: column;z-index: 1;position: relative;background-color: white;}#sk-container-id-6 div.sk-parallel-item:first-child::after {align-self: flex-end;width: 50%;}#sk-container-id-6 div.sk-parallel-item:last-child::after {align-self: flex-start;width: 50%;}#sk-container-id-6 div.sk-parallel-item:only-child::after {width: 0;}#sk-container-id-6 div.sk-dashed-wrapped {border: 1px dashed gray;margin: 0 0.4em 0.5em 0.4em;box-sizing: border-box;padding-bottom: 0.4em;background-color: white;}#sk-container-id-6 div.sk-label label {font-family: monospace;font-weight: bold;display: inline-block;line-height: 1.2em;}#sk-container-id-6 div.sk-label-container {text-align: center;}#sk-container-id-6 div.sk-container {/* jupyter's `normalize.less` sets `[hidden] { display: none; }` but bootstrap.min.css set `[hidden] { display: none !important; }` so we also need the `!important` here to be able to override the default hidden behavior on the sphinx rendered scikit-learn.org. See: https://github.com/scikit-learn/scikit-learn/issues/21755 */display: inline-block !important;position: relative;}#sk-container-id-6 div.sk-text-repr-fallback {display: none;}</style><div id=\"sk-container-id-6\" class=\"sk-top-container\"><div class=\"sk-text-repr-fallback\"><pre>DecisionTreeClassifier(max_depth=3, random_state=42)</pre><b>In a Jupyter environment, please rerun this cell to show the HTML representation or trust the notebook. <br />On GitHub, the HTML representation is unable to render, please try loading this page with nbviewer.org.</b></div><div class=\"sk-container\" hidden><div class=\"sk-item\"><div class=\"sk-estimator sk-toggleable\"><input class=\"sk-toggleable__control sk-hidden--visually\" id=\"sk-estimator-id-12\" type=\"checkbox\" checked><label for=\"sk-estimator-id-12\" class=\"sk-toggleable__label sk-toggleable__label-arrow\">DecisionTreeClassifier</label><div class=\"sk-toggleable__content\"><pre>DecisionTreeClassifier(max_depth=3, random_state=42)</pre></div></div></div></div></div>"
            ]
          },
          "metadata": {},
          "execution_count": 62
        }
      ]
    },
    {
      "cell_type": "code",
      "source": [
        "from sklearn.tree import DecisionTreeClassifier\n",
        "\n",
        "# df_final_tree=DecisionTreeClassifier(criterion='gini',max_depth=3,random_state=42)\n",
        "\n",
        "# df_final_tree.fit(df_finalX_train,df_finalY_train)\n",
        "\n",
        "df_finalY_predict=df_final_tree.predict(df_finalX_test)"
      ],
      "metadata": {
        "id": "_r8Y8RgP3iiJ"
      },
      "execution_count": 65,
      "outputs": []
    },
    {
      "cell_type": "code",
      "source": [
        "from sklearn.metrics import confusion_matrix\n",
        "import seaborn as sn\n",
        "df_finalY_test = df_finalY_test.astype('int8')\n",
        "array_finalY_test = df_finalY_test.values\n",
        "df_finalY_test\n",
        "class_name=['no fraud','fraud']\n",
        "confusionmatrix=confusion_matrix(df_finalY_test,df_finalY_predict)\n",
        "sn.heatmap(confusionmatrix, annot=True, yticklabels=class_name, xticklabels=class_name, fmt='g', cmap=\"Greens\")\n",
        "\n",
        "#accuracy\n",
        "\n",
        "from sklearn import metrics\n",
        "print('Accuracy:',metrics.accuracy_score(df_finalY_test,df_finalY_predict))\n",
        "print('AUC-ROC: ',metrics.roc_auc_score(df_finalY_test, df_finalY_predict))"
      ],
      "metadata": {
        "colab": {
          "base_uri": "https://localhost:8080/",
          "height": 466
        },
        "id": "gO1t4zK_3w7X",
        "outputId": "20fa064b-cb32-4c61-928f-4d389b2b26ee"
      },
      "execution_count": 66,
      "outputs": [
        {
          "output_type": "stream",
          "name": "stdout",
          "text": [
            "Accuracy: 0.7227170297242194\n",
            "AUC-ROC:  0.45993139644709385\n"
          ]
        },
        {
          "output_type": "display_data",
          "data": {
            "text/plain": [
              "<Figure size 640x480 with 2 Axes>"
            ],
            "image/png": "[encoded data removed]"
          },
          "metadata": {}
        }
      ]
    },
    {
      "cell_type": "code",
      "source": [],
      "metadata": {
        "id": "tEoejXGP30ri"
      },
      "execution_count": null,
      "outputs": []
    }
  ]
}